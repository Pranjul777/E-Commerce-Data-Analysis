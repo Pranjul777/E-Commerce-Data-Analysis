{
 "cells": [
  {
   "cell_type": "code",
   "execution_count": 1,
   "id": "d913a250-cfa3-4def-93e0-cc7731dcbe83",
   "metadata": {},
   "outputs": [],
   "source": [
    "import pandas as pd\n",
    "import matplotlib.pyplot as plt\n",
    "import seaborn as sns\n",
    "import mysql.connector\n",
    "\n",
    "db = mysql.connector.connect(host = \"localhost\",\n",
    "                             username = \"root\",\n",
    "                             password = \"Pran@12_3#@pqr123\",\n",
    "                             database = \"ecommerce\")\n",
    "cur = db.cursor()     "
   ]
  },
  {
   "cell_type": "markdown",
   "id": "e80532fb-40d5-44f1-9784-66a381571e3b",
   "metadata": {},
   "source": [
    "# List all unique cities where customers are located."
   ]
  },
  {
   "cell_type": "code",
   "execution_count": 2,
   "id": "ce2bd74f-f3d2-4366-87ae-3def900fa45f",
   "metadata": {},
   "outputs": [
    {
     "data": {
      "text/plain": [
       "[('franca',),\n",
       " ('sao bernardo do campo',),\n",
       " ('sao paulo',),\n",
       " ('mogi das cruzes',),\n",
       " ('campinas',),\n",
       " ('jaragua do sul',),\n",
       " ('timoteo',),\n",
       " ('curitiba',),\n",
       " ('belo horizonte',),\n",
       " ('montes claros',),\n",
       " ('rio de janeiro',),\n",
       " ('lencois paulista',),\n",
       " ('caxias do sul',),\n",
       " ('piracicaba',),\n",
       " ('guarulhos',),\n",
       " ('pacaja',),\n",
       " ('florianopolis',),\n",
       " ('aparecida de goiania',),\n",
       " ('santo andre',),\n",
       " ('goiania',)]"
      ]
     },
     "execution_count": 2,
     "metadata": {},
     "output_type": "execute_result"
    }
   ],
   "source": [
    "query =  \"\"\"select distinct(customer_city) from customers limit 20 \"\"\"\n",
    "cur.execute(query)\n",
    "data = cur.fetchall()\n",
    "\n",
    "data"
   ]
  },
  {
   "cell_type": "markdown",
   "id": "6f5e016d-b23d-4d07-a147-2db8d9e13b3c",
   "metadata": {},
   "source": [
    "# Count the number of orders placed in 2017."
   ]
  },
  {
   "cell_type": "code",
   "execution_count": 3,
   "id": "002fd0db-27b2-4297-a4a9-498d94fe661d",
   "metadata": {},
   "outputs": [
    {
     "data": {
      "text/plain": [
       "[(360808,)]"
      ]
     },
     "execution_count": 3,
     "metadata": {},
     "output_type": "execute_result"
    }
   ],
   "source": [
    "query = \"\"\"select count(order_id) from orders where year(order_purchase_timestamp) = 2017 \"\"\"\n",
    "\n",
    "cur.execute(query)\n",
    "\n",
    "data = cur.fetchall()\n",
    "\n",
    "data"
   ]
  },
  {
   "cell_type": "markdown",
   "id": "b7c19943-933f-4cbb-bb4a-cb92c88161a7",
   "metadata": {},
   "source": [
    "# Find the total sales per category."
   ]
  },
  {
   "cell_type": "code",
   "execution_count": 4,
   "id": "b99c346e-236e-4cb0-ae31-7aba914cd6ea",
   "metadata": {},
   "outputs": [
    {
     "data": {
      "text/html": [
       "<div>\n",
       "<style scoped>\n",
       "    .dataframe tbody tr th:only-of-type {\n",
       "        vertical-align: middle;\n",
       "    }\n",
       "\n",
       "    .dataframe tbody tr th {\n",
       "        vertical-align: top;\n",
       "    }\n",
       "\n",
       "    .dataframe thead th {\n",
       "        text-align: right;\n",
       "    }\n",
       "</style>\n",
       "<table border=\"1\" class=\"dataframe\">\n",
       "  <thead>\n",
       "    <tr style=\"text-align: right;\">\n",
       "      <th></th>\n",
       "      <th>Category</th>\n",
       "      <th>Sales</th>\n",
       "    </tr>\n",
       "  </thead>\n",
       "  <tbody>\n",
       "    <tr>\n",
       "      <th>0</th>\n",
       "      <td>perfumery</td>\n",
       "      <td>1.459407e+08</td>\n",
       "    </tr>\n",
       "    <tr>\n",
       "      <th>1</th>\n",
       "      <td>Furniture Decoration</td>\n",
       "      <td>4.118908e+08</td>\n",
       "    </tr>\n",
       "    <tr>\n",
       "      <th>2</th>\n",
       "      <td>telephony</td>\n",
       "      <td>1.402220e+08</td>\n",
       "    </tr>\n",
       "    <tr>\n",
       "      <th>3</th>\n",
       "      <td>bed table bath</td>\n",
       "      <td>4.932155e+08</td>\n",
       "    </tr>\n",
       "    <tr>\n",
       "      <th>4</th>\n",
       "      <td>automotive</td>\n",
       "      <td>2.454608e+08</td>\n",
       "    </tr>\n",
       "    <tr>\n",
       "      <th>5</th>\n",
       "      <td>computer accessories</td>\n",
       "      <td>4.565752e+08</td>\n",
       "    </tr>\n",
       "    <tr>\n",
       "      <th>6</th>\n",
       "      <td>housewares</td>\n",
       "      <td>3.152903e+08</td>\n",
       "    </tr>\n",
       "    <tr>\n",
       "      <th>7</th>\n",
       "      <td>babies</td>\n",
       "      <td>1.554756e+08</td>\n",
       "    </tr>\n",
       "    <tr>\n",
       "      <th>8</th>\n",
       "      <td>toys</td>\n",
       "      <td>1.782829e+08</td>\n",
       "    </tr>\n",
       "    <tr>\n",
       "      <th>9</th>\n",
       "      <td>Furniture office</td>\n",
       "      <td>1.862860e+08</td>\n",
       "    </tr>\n",
       "    <tr>\n",
       "      <th>10</th>\n",
       "      <td>Cool Stuff</td>\n",
       "      <td>2.245530e+08</td>\n",
       "    </tr>\n",
       "    <tr>\n",
       "      <th>11</th>\n",
       "      <td>HEALTH BEAUTY</td>\n",
       "      <td>4.773235e+08</td>\n",
       "    </tr>\n",
       "    <tr>\n",
       "      <th>12</th>\n",
       "      <td>pet Shop</td>\n",
       "      <td>8.964546e+07</td>\n",
       "    </tr>\n",
       "    <tr>\n",
       "      <th>13</th>\n",
       "      <td>General Interest Books</td>\n",
       "      <td>1.863209e+07</td>\n",
       "    </tr>\n",
       "    <tr>\n",
       "      <th>14</th>\n",
       "      <td>stationary store</td>\n",
       "      <td>9.142274e+07</td>\n",
       "    </tr>\n",
       "    <tr>\n",
       "      <th>15</th>\n",
       "      <td>Watches present</td>\n",
       "      <td>4.116144e+08</td>\n",
       "    </tr>\n",
       "    <tr>\n",
       "      <th>16</th>\n",
       "      <td>PCs</td>\n",
       "      <td>8.038701e+07</td>\n",
       "    </tr>\n",
       "    <tr>\n",
       "      <th>17</th>\n",
       "      <td>climatization</td>\n",
       "      <td>2.625715e+07</td>\n",
       "    </tr>\n",
       "    <tr>\n",
       "      <th>18</th>\n",
       "      <td>Construction Tools Construction</td>\n",
       "      <td>6.954498e+07</td>\n",
       "    </tr>\n",
       "    <tr>\n",
       "      <th>19</th>\n",
       "      <td>sport leisure</td>\n",
       "      <td>4.009327e+08</td>\n",
       "    </tr>\n",
       "  </tbody>\n",
       "</table>\n",
       "</div>"
      ],
      "text/plain": [
       "                           Category         Sales\n",
       "0                         perfumery  1.459407e+08\n",
       "1              Furniture Decoration  4.118908e+08\n",
       "2                         telephony  1.402220e+08\n",
       "3                    bed table bath  4.932155e+08\n",
       "4                        automotive  2.454608e+08\n",
       "5              computer accessories  4.565752e+08\n",
       "6                        housewares  3.152903e+08\n",
       "7                            babies  1.554756e+08\n",
       "8                              toys  1.782829e+08\n",
       "9                  Furniture office  1.862860e+08\n",
       "10                       Cool Stuff  2.245530e+08\n",
       "11                    HEALTH BEAUTY  4.773235e+08\n",
       "12                         pet Shop  8.964546e+07\n",
       "13           General Interest Books  1.863209e+07\n",
       "14                 stationary store  9.142274e+07\n",
       "15                  Watches present  4.116144e+08\n",
       "16                              PCs  8.038701e+07\n",
       "17                    climatization  2.625715e+07\n",
       "18  Construction Tools Construction  6.954498e+07\n",
       "19                    sport leisure  4.009327e+08"
      ]
     },
     "execution_count": 4,
     "metadata": {},
     "output_type": "execute_result"
    }
   ],
   "source": [
    "query = \"\"\"select products.product_category category, round(sum(payments.payment_value),2) sales \n",
    "            from products \n",
    "            join order_items\n",
    "            on products.product_id = order_items.product_id\n",
    "            join payments\n",
    "            on payments.order_id = order_items.order_id\n",
    "            group by category limit 20\"\"\"\n",
    "\n",
    "cur.execute(query)\n",
    "data = cur.fetchall()\n",
    "data\n",
    "df = pd.DataFrame(data , columns = [\"Category\",\"Sales\"])\n",
    "df"
   ]
  },
  {
   "cell_type": "markdown",
   "id": "9414e6c8-ea19-4955-a0c3-600e4ff78978",
   "metadata": {},
   "source": [
    "# Calculate the percentage of orders that were paid in installments."
   ]
  },
  {
   "cell_type": "code",
   "execution_count": 7,
   "id": "4492221a-4539-4328-8ef9-469340f3dfe5",
   "metadata": {},
   "outputs": [
    {
     "data": {
      "text/plain": [
       "[(Decimal('99.9981'),)]"
      ]
     },
     "execution_count": 7,
     "metadata": {},
     "output_type": "execute_result"
    }
   ],
   "source": [
    "query = \"\"\"select sum(case when payment_installments>=1 then 1 else 0 end)/count(*)*100 from payments \"\"\"\n",
    "cur.execute(query)\n",
    "data = cur.fetchall()\n",
    "data"
   ]
  },
  {
   "cell_type": "markdown",
   "id": "218f50b8-3475-468d-ac40-a73ae9ab3451",
   "metadata": {},
   "source": [
    "# Count number of customers from each state"
   ]
  },
  {
   "cell_type": "code",
   "execution_count": 58,
   "id": "02755ae7-10a5-40b0-b667-314fdb356f6c",
   "metadata": {},
   "outputs": [
    {
     "data": {
      "text/plain": [
       "<function matplotlib.pyplot.show(close=None, block=None)>"
      ]
     },
     "execution_count": 58,
     "metadata": {},
     "output_type": "execute_result"
    },
    {
     "data": {
      "image/png": "[encoded data removed]",
      "text/plain": [
       "<Figure size 1000x300 with 1 Axes>"
      ]
     },
     "metadata": {},
     "output_type": "display_data"
    }
   ],
   "source": [
    "query = \"\"\"select customer_state, count(customer_id) as cnt\n",
    "from customers\n",
    "group by customer_state\n",
    "order by cnt desc\"\"\"\n",
    "cur.execute(query)\n",
    "data = cur.fetchall()\n",
    "data\n",
    "df = pd.DataFrame(data, columns = [\"State\",\"Customer_count\"])\n",
    "plt.figure(figsize = (10,3))\n",
    "plt.bar(df[\"State\"],df[\"Customer_count\"])\n",
    "\n",
    "plt.xticks(rotation = 90)\n",
    "plt.xlabel(\"State\")\n",
    "plt.ylabel(\"Customer_count\")\n",
    "plt.title(\"CUSTOMER_COUNT PER STATE\")\n",
    "plt.show"
   ]
  },
  {
   "cell_type": "markdown",
   "id": "25251478-d3a5-4f47-9589-ba84c0a5bb13",
   "metadata": {},
   "source": [
    "# **Medium Questions**\n",
    "# Calculate order numbers per month in 2018."
   ]
  },
  {
   "cell_type": "code",
   "execution_count": 56,
   "id": "4f5e07cd-15a2-4f65-b081-2ea4f7ffad88",
   "metadata": {},
   "outputs": [
    {
     "data": {
      "text/plain": [
       "<function matplotlib.pyplot.show(close=None, block=None)>"
      ]
     },
     "execution_count": 56,
     "metadata": {},
     "output_type": "execute_result"
    },
    {
     "data": {
      "image/png": "[encoded data removed]",
      "text/plain": [
       "<Figure size 1000x300 with 1 Axes>"
      ]
     },
     "metadata": {},
     "output_type": "display_data"
    }
   ],
   "source": [
    "query = \"\"\"select count(distinct(order_id)),monthname(order_purchase_timestamp) as mnt \n",
    "from orders \n",
    "where year(order_purchase_timestamp) = 2018\n",
    "group by mnt\"\"\"\n",
    "cur.execute(query)\n",
    "data = cur.fetchall()\n",
    "data\n",
    "df = pd.DataFrame(data, columns = [\"ordeer_count\",\"month\"])\n",
    "df\n",
    "plt.figure(figsize=(10,3))\n",
    "plt.bar(df[\"month\"],df[\"ordeer_count\"])\n",
    "plt.xticks(rotation = 45)\n",
    "\n",
    "plt.show\n"
   ]
  },
  {
   "cell_type": "code",
   "execution_count": null,
   "id": "1cabd7af-5af4-4a22-a736-7644be2abee4",
   "metadata": {},
   "outputs": [],
   "source": []
  }
 ],
 "metadata": {
  "kernelspec": {
   "display_name": "Python 3 (ipykernel)",
   "language": "python",
   "name": "python3"
  },
  "language_info": {
   "codemirror_mode": {
    "name": "ipython",
    "version": 3
   },
   "file_extension": ".py",
   "mimetype": "text/x-python",
   "name": "python",
   "nbconvert_exporter": "python",
   "pygments_lexer": "ipython3",
   "version": "3.12.6"
  }
 },
 "nbformat": 4,
 "nbformat_minor": 5
}
